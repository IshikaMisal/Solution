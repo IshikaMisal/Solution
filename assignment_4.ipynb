{
  "nbformat": 4,
  "nbformat_minor": 0,
  "metadata": {
    "colab": {
      "name": "assignment 4.ipynb",
      "version": "0.3.2",
      "provenance": []
    },
    "kernelspec": {
      "name": "python3",
      "display_name": "Python 3"
    }
  },
  "cells": [
    {
      "cell_type": "code",
      "metadata": {
        "id": "6-JyK2ROoA5j",
        "colab_type": "code",
        "colab": {}
      },
      "source": [
        "a=input(\"enter your name:\")\n",
        "x =random.randint(1,100)\n",
        "for i in range(0,3):\n",
        "  y = int(input(\"enter a number:\")\n",
        "  \n",
        "if y in range(x-30,x-1):\n",
        "          print(\"you are short by small number\")\n",
        "elif y in range(x+1,x+30):\n",
        "          print(\"you are over by a small number\")\n",
        "elif (x==y):\n",
        "          print(\"congratulations! you won\")\n",
        "else:\n",
        "          print(\"ur ans is wrong, try again\")\n",
        " \n",
        "print(\"the  correct number was:\" , x)"
      ],
      "execution_count": 0,
      "outputs": []
    }
  ]
}