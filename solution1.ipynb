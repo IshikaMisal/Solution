{
  "nbformat": 4,
  "nbformat_minor": 0,
  "metadata": {
    "colab": {
      "name": "solution1.ipynb",
      "version": "0.3.2",
      "provenance": [],
      "collapsed_sections": []
    },
    "kernelspec": {
      "name": "python3",
      "display_name": "Python 3"
    }
  },
  "cells": [
    {
      "cell_type": "code",
      "metadata": {
        "id": "I8Bk6c21kENy",
        "colab_type": "code",
        "colab": {}
      },
      "source": [
        "#simple interest\n",
        "principal=float(input(\"Enter the principal:\"))\n",
        "time=float(input(\"Enter the rate(years):\"))\n",
        "rate=float(input(\"Enter the rate:\"))\n",
        "simple_interest=(principal*time*rate)/100\n",
        "print(\"The simple interest is:\",simple_interest)"
      ],
      "execution_count": 0,
      "outputs": []
    },
    {
      "cell_type": "markdown",
      "metadata": {
        "id": "CiNSOZv5nsSI",
        "colab_type": "text"
      },
      "source": [
        "This python program allows user to enter the principle amount, rate of interest, and number of years. Using those values , program will calculate simple interest using the formula :simple interest =p*t*r/100"
      ]
    },
    {
      "cell_type": "code",
      "metadata": {
        "id": "8GIJ_Qmnowxb",
        "colab_type": "code",
        "colab": {}
      },
      "source": [
        "#compound interest\n",
        "principal=float(input(\"Enter the principal:\"))\n",
        "rate=float(input(\"Enter the rate:\"))\n",
        "time=float(input(\"Enter the rate(years):\"))\n",
        "\n",
        "interest=principal*(pow((1+rate/100),time))\n",
        "print(\"compound interest is \", interest)"
      ],
      "execution_count": 0,
      "outputs": []
    },
    {
      "cell_type": "markdown",
      "metadata": {
        "id": "qv2o1OJXoy-6",
        "colab_type": "text"
      },
      "source": [
        "In this program the user input is taken usinf input ()\n",
        "function also we need the input to be float for calculation . Inputs taken grom the user are p for the principle ammount, t for time in years and r for the interest rate .The formula is applied and the output is printed   "
      ]
    },
    {
      "cell_type": "code",
      "metadata": {
        "id": "ReYihYWrrSB0",
        "colab_type": "code",
        "colab": {}
      },
      "source": [
        "#Armstrong number\n",
        "num=int(input(\"Enter a number:\"))\n",
        "sum=0\n",
        "x=num\n",
        "\n",
        "while x > 0:\n",
        "    digit = x % 10\n",
        "    sum += digit ** 3\n",
        "    x //= 10\n",
        "\n",
        "if num==sum:\n",
        "    print(num,\"is an Armstrong number\")\n",
        "else:\n",
        "    print(num,\"is not an Armstrong number\")"
      ],
      "execution_count": 0,
      "outputs": []
    },
    {
      "cell_type": "markdown",
      "metadata": {
        "id": "Y6d2UwF3ryzD",
        "colab_type": "text"
      },
      "source": [
        "A number is called Armstrong number if it is equal to the sum of the cubes of its own digits.\n",
        "In this program we need to calculate the sum of cube of each digit. first we take input from the user then Initialize sum to 0 . The num(input) entered by the user is then saved in a different variable (x). using whileloop we apply condition i.e x should be greater than 0. Then obtain each digit number by using modulus operator(%). Remainder of a number when it is divide by 10 is the last digit of that numer . sum of cubes is done and on the next step is x//=10 it assign the value to the left operand(x=x//10). lastly if condition is applied (num=sum) if the given conditon is true then it will print that the number entered by the user is Armstrong number else it will print it is not an Armstrong number."
      ]
    },
    {
      "cell_type": "code",
      "metadata": {
        "id": "gkW48trkxGEj",
        "colab_type": "code",
        "colab": {}
      },
      "source": [
        "PI=3.14\n",
        "r=float(input(\"Enter the radius of the circle:\"))\n",
        "area=PI*r*r\n",
        "print (\"area of the circle is:\", area)"
      ],
      "execution_count": 0,
      "outputs": []
    },
    {
      "cell_type": "markdown",
      "metadata": {
        "id": "JSVYdwOQYwMS",
        "colab_type": "text"
      },
      "source": [
        "First define the value of PI (i.e 3.14) .Take the input radius from the user , write the formula for area of a circle and lastly print the following result. "
      ]
    },
    {
      "cell_type": "code",
      "metadata": {
        "id": "Ce4UZQwhZgsr",
        "colab_type": "code",
        "colab": {}
      },
      "source": [
        "num=int(input(\"enter a number:\"))\n",
        "if num>1:\n",
        "    for i in range(2,int(num+1)):\n",
        "        if num % 2 ==0:\n",
        "            print(\" not prime number\")\n",
        "            break\n",
        "        else:\n",
        "            print(\" prime number\")"
      ],
      "execution_count": 0,
      "outputs": []
    },
    {
      "cell_type": "markdown",
      "metadata": {
        "id": "DAc7JMnaZh_I",
        "colab_type": "text"
      },
      "source": [
        " A prime number is always positive so we are checking that in the beginning of the program.\n",
        "We are dividing the input number by all the numbers in the range of 2 to (number – 1) to see whether there are any positive divisors other than 1 and number itself.\n",
        "If any divisor is found then we display that the “number is not a prime number” else we display that the “number is a prime number”.\n",
        "We are using the break statement in the loop to come out of the loop as soon as any positive divisor is found as there is no further check is required.\n"
      ]
    },
    {
      "cell_type": "code",
      "metadata": {
        "id": "plwyngjVcZkH",
        "colab_type": "code",
        "colab": {}
      },
      "source": [
        "a=int(input(\"Enter the number of elements of the series \"))\n",
        "n1=0\n",
        "n2=1\n",
        "i=2\n",
        "if a<= 0:\n",
        "\tprint (\"Enter a positive integer..\")\n",
        "elif a== 1:\n",
        "\tprint (\"Fibonacci series up to:\",a)\n",
        "\tprint n1\n",
        "else:\n",
        "\tprint (\"Fibonacci series up to:\",a)\n",
        "\tprint n1\n",
        "\tprint n2\n",
        "\twhile i<a:\n",
        "\t\tn3=n1+n2\n",
        "\t\tprint n3\n",
        "\t\tn1=n2\n",
        "\t\tn2=n3\n",
        "\t\ti=i+1\n"
      ],
      "execution_count": 0,
      "outputs": []
    },
    {
      "cell_type": "markdown",
      "metadata": {
        "id": "dAQzYvAXeN34",
        "colab_type": "text"
      },
      "source": [
        "Take input from the user , assigin 0 and 1 to n1 and n2 respectively . Here if condition is used so that the input shoud be greater than 0 or 1 and it should be possitive integer . After the condition is satisfied we take while loop in which i should be greater than 2 and perform addition of first two numbers (n3=n1+n2) .Assign n1 to n2 and n2 to n3 .It will print the fibonacci sequence."
      ]
    },
    {
      "cell_type": "code",
      "metadata": {
        "id": "hT3-DqaKgbn2",
        "colab_type": "code",
        "colab": {}
      },
      "source": [
        "a=input(\"ur name:\")\n",
        "b=input(\"age:\")\n",
        "c=input(\"hobby:\")\n",
        "print(\"name is {} , he/she is {} years old and,likes {}\".format(a,b,c))"
      ],
      "execution_count": 0,
      "outputs": []
    },
    {
      "cell_type": "markdown",
      "metadata": {
        "id": "bUWqtVUBgnv4",
        "colab_type": "text"
      },
      "source": [
        "By this program we print the name, age , and hobby of the perticular person by taking those input given above then give the print command (in .format) .Hence it will print the following information."
      ]
    },
    {
      "cell_type": "code",
      "metadata": {
        "id": "tqt7mBbZhRH2",
        "colab_type": "code",
        "colab": {}
      },
      "source": [
        "n=int(input(\"enter the number to print the tables for :\"))\n",
        "for i in range(1,11):\n",
        "    print(n,\"x\",i,\"=\",n*i)"
      ],
      "execution_count": 0,
      "outputs": []
    },
    {
      "cell_type": "markdown",
      "metadata": {
        "id": "ZZAQQHSPhSO-",
        "colab_type": "text"
      },
      "source": [
        "Firstly take the input form the user (for eg 4 , it will print the tables of 4) .  In next step define the range (Starting and ending point). lastly print (n,\"x\",i,\"=\",n*i) , it simply says n x i =n x i.It multiplyes the two number and gives the output."
      ]
    },
    {
      "cell_type": "code",
      "metadata": {
        "id": "PWse2Cnci9B5",
        "colab_type": "code",
        "colab": {}
      },
      "source": [
        "n=int(input(\"enter a number: \"))\n",
        "b=n*(n+1)/2\n",
        "print(\"the sum of first n natural numberis \", sum)"
      ],
      "execution_count": 0,
      "outputs": []
    },
    {
      "cell_type": "markdown",
      "metadata": {
        "id": "kVmzxRcZi98W",
        "colab_type": "text"
      },
      "source": [
        "Take input from the user For example, if n = 6, the sum would be (6*7)/2 = 21. later print the ans."
      ]
    },
    {
      "cell_type": "code",
      "metadata": {
        "id": "lbympa2rGXjD",
        "colab_type": "code",
        "colab": {}
      },
      "source": [
        "c=input(\"enter a character: \")\n",
        "print(\"the ASCII value of '\"+c+\" ' is\",ord(c))"
      ],
      "execution_count": 0,
      "outputs": []
    },
    {
      "cell_type": "markdown",
      "metadata": {
        "id": "qRRMls4OXKCW",
        "colab_type": "text"
      },
      "source": [
        "Here we have used \"ord()\" function to convert a character to an integer (ASCCI value). This fuctionactually returns the Unicode code point of that character. Unicode is also an encoding technique that provides a unique number to a character "
      ]
    }
  ]
}