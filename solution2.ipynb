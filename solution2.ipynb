{
  "nbformat": 4,
  "nbformat_minor": 0,
  "metadata": {
    "colab": {
      "name": "solution2.ipynb",
      "version": "0.3.2",
      "provenance": []
    },
    "kernelspec": {
      "name": "python3",
      "display_name": "Python 3"
    }
  },
  "cells": [
    {
      "cell_type": "code",
      "metadata": {
        "id": "xQJOZNQjhGX1",
        "colab_type": "code",
        "colab": {
          "base_uri": "https://localhost:8080/",
          "height": 141
        },
        "outputId": "1d084788-0a5e-418a-e0c5-84a2ff5ac7f6"
      },
      "source": [
        "a=input(\"enter ur name: \")\n",
        "b=input(\"enter ur date of birth (in DDMMYYYY): \")\n",
        "c=int(input(\"current year: \"))\n",
        "d=input(\"month of interest:\")\n",
        "e=int(b[2:4])\n",
        "f=int(b[4:9])\n",
        "\n",
        "\n",
        "def age(c,f):\n",
        "    u = c-f\n",
        "    print (\"your age is {}\".format(u))\n",
        "\n",
        "age(c,f)\n",
        "\n",
        "def m_d(e):\n",
        "    if e==1 or e==3  or e==5 or  e==7 or e==8 or e==10  or e==12 :\n",
        "        print (\"ur selected {}month has 31 days\" .format(e))\n",
        "    elif e == 4 or e == 6 or e == 9 or e == 11 :\n",
        "            print (\"ur selected {}month(of interest) has 30 days\" .format(e))\n",
        "    elif e==2:\n",
        "            print(\"ur selected {}month has 28 days\" .format(e))\n",
        "    else:\n",
        "        print(\"invalid\")\n",
        "\n",
        "\n",
        "\n",
        "m_d(e)\n",
        "\n",
        "def m_i(d):\n",
        "    if d==\"january\" or d==\"march\" or d==\"may\" or d==\"july\" or d==\"august\" or d==\"october\" or d==\"december\" :\n",
        "        print (\"ur selected {} month has 31 days\" .format(d))\n",
        "    elif d==\"april\" or d==\"june\" or d==\"september\" or d==\"november\" :\n",
        "        print(\"ur selected {} month has 30 days\" .format(d))\n",
        "    elif d==\"february\":\n",
        "        print(\"ur selected {} month has 28 days\" .format(d))\n",
        "    else:\n",
        "        print(\"invalid \")\n",
        "\n",
        "\n",
        "m_i(d)\n",
        "\n"
      ],
      "execution_count": 1,
      "outputs": [
        {
          "output_type": "stream",
          "text": [
            "enter ur name: ISHIKA\n",
            "enter ur date of birth (in DDMMYYYY): 31102000\n",
            "current year: 2019\n",
            "month of interest:december\n",
            "your age is 19\n",
            "ur selected 10month has 31 days\n",
            "ur selected december month has 31 days\n"
          ],
          "name": "stdout"
        }
      ]
    }
  ]
}